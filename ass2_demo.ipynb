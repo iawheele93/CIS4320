{
 "cells": [
  {
   "cell_type": "code",
   "execution_count": 1,
   "metadata": {
    "collapsed": false
   },
   "outputs": [
    {
     "data": {
      "text/plain": [
       "name                string\n",
       "zipCode            integer\n",
       "neighborhood        string\n",
       "councilDistrict    integer\n",
       "policeDistrict      string\n",
       "Location 1          string\n",
       "dtype: object"
      ]
     },
     "execution_count": 1,
     "metadata": {},
     "output_type": "execute_result"
    }
   ],
   "source": [
    "import pandas as pd\n",
    "import json\n",
    "import numpy as np\n",
    "import collections\n",
    "\n",
    "resdf=pd.read_csv('res.csv',encoding='utf8')\n",
    "resdf.apply(lambda x: pd.lib.infer_dtype(x.values))"
   ]
  },
  {
   "cell_type": "code",
   "execution_count": null,
   "metadata": {
    "collapsed": false
   },
   "outputs": [],
   "source": [
    "resdf"
   ]
  },
  {
   "cell_type": "markdown",
   "metadata": {},
   "source": [
    "Clean the data:"
   ]
  },
  {
   "cell_type": "code",
   "execution_count": 2,
   "metadata": {
    "collapsed": true
   },
   "outputs": [],
   "source": [
    "zipCode=resdf['zipCode'].values.tolist()\n",
    "neighborhoodraw=resdf['neighborhood'].values\n",
    "councilDistrict=resdf['councilDistrict'].values\n",
    "policeDistrictraw=resdf['policeDistrict'].values\n",
    "location1raw=resdf['Location 1'].values\n",
    "resNameraw=resdf['name'].values                  \n",
    "\n",
    "neighborhood=[elm.strip().upper() for elm in neighborhoodraw]                  \n",
    "policeDistrict=[elm.strip() for elm in policeDistrictraw]\n",
    "location1=[elm.strip() for elm in location1raw]\n",
    "resName=[elm.strip() for elm in resNameraw]"
   ]
  },
  {
   "cell_type": "markdown",
   "metadata": {},
   "source": [
    "question-1: Find how many different zipCode in the table"
   ]
  },
  {
   "cell_type": "code",
   "execution_count": null,
   "metadata": {
    "collapsed": true
   },
   "outputs": [],
   "source": [
    "q1=len(set(zipCode))"
   ]
  },
  {
   "cell_type": "markdown",
   "metadata": {},
   "source": [
    "question-2: Find how many different councilDistrict in the table"
   ]
  },
  {
   "cell_type": "code",
   "execution_count": null,
   "metadata": {
    "collapsed": true
   },
   "outputs": [],
   "source": [
    "q2=len(set(councilDistrict))"
   ]
  },
  {
   "cell_type": "markdown",
   "metadata": {},
   "source": [
    "question-4: Find how many different policeDistrict in the table"
   ]
  },
  {
   "cell_type": "code",
   "execution_count": null,
   "metadata": {
    "collapsed": true
   },
   "outputs": [],
   "source": [
    "q4=len(set(policeDistrict))"
   ]
  },
  {
   "cell_type": "markdown",
   "metadata": {},
   "source": [
    "question-5: Find out which policeDistrict has the largest number of \n",
    "restaurants. If you got more than one policeDistricts, put them in a list,\n",
    "e.g. ['SOUTHERN','NORTHERN']"
   ]
  },
  {
   "cell_type": "code",
   "execution_count": null,
   "metadata": {
    "collapsed": true
   },
   "outputs": [],
   "source": [
    "resInPoliceD=[(dname,rcnt) for dname,rcnt in \n",
    "              collections.Counter(policeDistrict).items()]\n",
    "dname,rcnt=zip(*resInPoliceD)\n",
    "maxcnt=max(rcnt)\n",
    "idxs=[idx for idx,val in enumerate(rcnt) if val==maxcnt]\n",
    "q5=[dname[idx] for idx in idxs]"
   ]
  },
  {
   "cell_type": "code",
   "execution_count": null,
   "metadata": {
    "collapsed": false
   },
   "outputs": [],
   "source": [
    "print(rcnt)"
   ]
  },
  {
   "cell_type": "code",
   "execution_count": null,
   "metadata": {
    "collapsed": false
   },
   "outputs": [],
   "source": [
    "print(enumerate(rcnt))"
   ]
  },
  {
   "cell_type": "code",
   "execution_count": null,
   "metadata": {
    "collapsed": false
   },
   "outputs": [],
   "source": [
    "print(collections.Counter(policeDistrict).items())"
   ]
  },
  {
   "cell_type": "markdown",
   "metadata": {},
   "source": [
    "question-6: Find out which policeDistrict has the largest number of \n",
    "restaurants. If you got more than one policeDistricts, put them in a list,\n",
    "e.g. ['SOUTHERN','NORTHERN']"
   ]
  },
  {
   "cell_type": "code",
   "execution_count": null,
   "metadata": {
    "collapsed": true
   },
   "outputs": [],
   "source": [
    "resInPoliceD=[(dname,rcnt) for dname,rcnt in \n",
    "              collections.Counter(policeDistrict).items()]\n",
    "dname,rcnt=zip(*resInPoliceD)\n",
    "maxcnt=max(rcnt)\n",
    "idxs=[idx for idx,val in enumerate(rcnt) if val==maxcnt]\n",
    "q6=[dname[idx] for idx in idxs]"
   ]
  },
  {
   "cell_type": "code",
   "execution_count": null,
   "metadata": {
    "collapsed": true
   },
   "outputs": [],
   "source": [
    "print(list(collections.Counter(policeDistrict).items()))"
   ]
  },
  {
   "cell_type": "markdown",
   "metadata": {},
   "source": [
    "question-7: Find out which zipCode has the largest number of \n",
    "restaurants. If you got more than one zipCode, put them in a list,\n",
    "e.g. [21215,21217]"
   ]
  },
  {
   "cell_type": "code",
   "execution_count": null,
   "metadata": {
    "collapsed": true
   },
   "outputs": [],
   "source": [
    "resInzipCode=[(zcode,rcnt) for zcode,rcnt in \n",
    "              collections.Counter(zipCode).items()]\n",
    "zcode,rcnt=zip(*resInzipCode)\n",
    "maxcnt=max(rcnt)\n",
    "idxs=[idx for idx,val in enumerate(rcnt) if val==maxcnt]\n",
    "q7=[zcode[idx] for idx in idxs]"
   ]
  },
  {
   "cell_type": "markdown",
   "metadata": {},
   "source": [
    "question-8: List all different neighborhood in the SOUTHERN policeDistrict.\n",
    "Put your answer in a list, e.g. ['Cherry Hill', 'Curtis Bay', 'Federal Hill']"
   ]
  },
  {
   "cell_type": "code",
   "execution_count": null,
   "metadata": {
    "collapsed": true
   },
   "outputs": [],
   "source": [
    "nbs_pd=zip(neighborhood,policeDistrict)\n",
    "allnbsraw=[nb for nb,pd in nbs_pd if pd=='SOUTHERN']\n",
    "allnbs=set(allnbsraw)\n",
    "q8=list(allnbs)"
   ]
  },
  {
   "cell_type": "markdown",
   "metadata": {},
   "source": [
    "question-9: After finding out all BURGER KING restaurants. Find out in which\n",
    "policeDistrict, it has more than one BURGER KING restaurants. If you got \n",
    "more than one policeDistricts, put them in a list,\n",
    "e.g. ['SOUTHERN','NORTHERN']. \n",
    "\n",
    "NOTE: the name like BURGER KING # 10293 is also a BURGER KING restaurant,"
   ]
  },
  {
   "cell_type": "code",
   "execution_count": null,
   "metadata": {
    "collapsed": true
   },
   "outputs": [],
   "source": [
    "idxs=[i for i,v in enumerate(resName) if 'BURGER KING' in v]\n",
    "pdraw=[policeDistrict[i] for i in idxs]\n",
    "q9=[pd for pd,cnt in collections.Counter(pdraw).items() if cnt>1]"
   ]
  },
  {
   "cell_type": "markdown",
   "metadata": {},
   "source": [
    "question-10: Are there any relplicated names in the location 1 column? If \n",
    "the answer is yes, put them in a list, \n",
    "e.g. ['Hopkins Pl Baltimore, MD','Hayward Ave Baltimore, MD']. If not, assign \n",
    "empty list to it. "
   ]
  },
  {
   "cell_type": "code",
   "execution_count": null,
   "metadata": {
    "collapsed": true
   },
   "outputs": [],
   "source": [
    "q10=[aloc for aloc,cnt in collections.Counter(location1).items() if cnt>1]"
   ]
  },
  {
   "cell_type": "markdown",
   "metadata": {},
   "source": [
    "question-11: How many different zipCodes are used in the CENTRAL \n",
    "policeDistrict? "
   ]
  },
  {
   "cell_type": "code",
   "execution_count": null,
   "metadata": {
    "collapsed": true
   },
   "outputs": [],
   "source": [
    "zip_pd=zip(zipCode,policeDistrict)\n",
    "allzipsraw=[azip for azip,pd in zip_pd if pd=='CENTRAL']\n",
    "q11=len(set(allzipsraw))"
   ]
  },
  {
   "cell_type": "code",
   "execution_count": null,
   "metadata": {
    "collapsed": true
   },
   "outputs": [],
   "source": [
    "answer={'question-1':q1,'question-2':q2, \n",
    "        'question-3':q3,'question-4':q4,\n",
    "        'question-5':q5,'question-6':q6, \n",
    "        'question-7':q7,'question-8':q8, \n",
    "        'question-9':q9,'question-10':q10, \n",
    "        'question-11':q11}"
   ]
  },
  {
   "cell_type": "code",
   "execution_count": null,
   "metadata": {
    "collapsed": true
   },
   "outputs": [],
   "source": [
    "\"\"\"\n",
    "DON'T CHANGE THE FOLLOWING CODE\n",
    "\"\"\"\n",
    "\n",
    "with open('myoutput.txt','w') as outfile:\n",
    "    json.dump(answer,outfile)"
   ]
  }
 ],
 "metadata": {
  "kernelspec": {
   "display_name": "Python [default]",
   "language": "python",
   "name": "python3"
  },
  "language_info": {
   "codemirror_mode": {
    "name": "ipython",
    "version": 3.0
   },
   "file_extension": ".py",
   "mimetype": "text/x-python",
   "name": "python",
   "nbconvert_exporter": "python",
   "pygments_lexer": "ipython3",
   "version": "3.5.2"
  }
 },
 "nbformat": 4,
 "nbformat_minor": 0
}